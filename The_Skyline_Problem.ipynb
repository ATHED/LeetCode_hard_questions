{
 "cells": [
  {
   "cell_type": "code",
   "execution_count": 4,
   "metadata": {},
   "outputs": [],
   "source": [
    "#Question #218 The Skyline Problem\n",
    "\n",
    "#Description:\n",
    "#A city's skyline is the outer contour of the silhouette formed by all the buildings in that city \n",
    "#when viewed from a distance. \n",
    "#Now suppose you are given the locations and height of all the buildings as shown on a cityscape photo, \n",
    "#write a program to output the skyline formed by these buildings collectively\n",
    "#\n",
    "#The geometric information of each building is represented by a triplet of integers [Li, Ri, Hi], \n",
    "#where Li and Ri are the x coordinates of the left and right edge of the ith building, \n",
    "#respectively, and Hi is its height. It is guaranteed that 0 ≤ Li, Ri ≤ INT_MAX, 0 < Hi ≤ INT_MAX, \n",
    "#and Ri - Li > 0. \n",
    "#You may assume all buildings are perfect rectangles grounded on an absolutely flat surface at height 0.\n",
    "\n",
    "#Example:\n",
    "#Input: buildings = [[2,9,10],[3,7,15],[5,12,12],[15,20,10],[19,24,8]]\n",
    "#Output: [[2,10],[3,15],[7,12],[12,0],[15,10],[20,8],[24,0]]\n",
    "\n",
    "#Explanation\n",
    "#For instance, the dimensions of all buildings are recorded as: \n",
    "#[ [2 9 10], [3 7 15], [5 12 12], [15 20 10], [19 24 8] ] .\n",
    "\n",
    "#The output is a list of \"key points\" in the format of [ [x1,y1], [x2, y2], [x3, y3], ... ] \n",
    "#that uniquely defines a skyline. \n",
    "#A key point is the left endpoint of a horizontal line segment. Note that the last key point, \n",
    "#where the rightmost building ends, is merely used to mark the termination of the skyline, \n",
    "#and always has zero height. \n",
    "#Also, the ground in between any two adjacent buildings should be considered part of the skyline contour.\n",
    "\n",
    "#For instance, the skyline should be represented as:[ [2 10], [3 15], [7 12], [12 0], [15 10], [20 8], [24, 0] ].\n",
    "\n",
    "\n",
    "#import necessary package\n",
    "import collections\n",
    "from typing import List\n",
    "import heapq\n",
    "\n",
    "#defines the method for the problem\n",
    "#input: self, buildings\n",
    "\n",
    "#idea: Use priority queue to record the current largest height and all the buildings cover it\n",
    "\n",
    "#steps:\n",
    "#As shown in comments below
    "def getSkyline(self, buildings: List[List[int]]) -> List[List[int]]:\n",
    "        # `position` stores all coordinates where the largest height may change\n",
    "        # `alive` stores all buildings whose ranges cover the current coordinate\n",
    "        position = sorted(set([building[0] for building in buildings] + [building[1] for building in buildings]))\n",
    "        ptr, prevH = 0, 0\n",
    "        alive, ret = [], []\n",
    "        \n",
    "        for curPos in position:\n",
    "            # pop buildings that end at or before `curPos` out of the priority queue\n",
    "            # they are no longer \"alive\"\n",
    "            while alive and alive[0][1] <= curPos:\n",
    "                heapq.heappop(alive)\n",
    "            \n",
    "            # push [negative_height, end_point] of all buildings that start before `curPos` onto the priority queue\n",
    "            # they are candidates for the current highest building\n",
    "            while ptr < len(buildings) and buildings[ptr][0] <= curPos:\n",
    "                heapq.heappush(alive, [-buildings[ptr][2], buildings[ptr][1]])\n",
    "                ptr += 1\n",
    "            \n",
    "            # now alive[0] must be the largest height at the current position\n",
    "            if alive:\n",
    "                curH = -alive[0][0]\n",
    "                if curH != prevH:\n",
    "                    ret.append([curPos, curH])\n",
    "                    prevH = curH\n",
    "            else:  # no building -> horizon\n",
    "                ret.append([curPos, 0])\n",
    "                \n",
    "        return ret"
   ]
  },
  {
   "cell_type": "code",
   "execution_count": 5,
   "metadata": {},
   "outputs": [
    {
     "name": "stdout",
     "output_type": "stream",
     "text": [
      "The output is:  [[2, 10], [3, 15], [7, 12], [12, 0], [15, 10], [20, 8], [24, 0]]\n"
     ]
    }
   ],
   "source": [
    "#test case\n",
    "#input: buildings = [[2,9,10],[3,7,15],[5,12,12],[15,20,10],[19,24,8]]\n",
    "#exprected output: [[2,10],[3,15],[7,12],[12,0],[15,10],[20,8],[24,0]]\n",
    "\n",
    "buildings = [[2,9,10],[3,7,15],[5,12,12],[15,20,10],[19,24,8]]\n",
    "\n",
    "#print output\n",
    "print(\"The output is: \", getSkyline(_, buildings))"
   ]
  },
  {
   "cell_type": "code",
   "execution_count": null,
   "metadata": {},
   "outputs": [],
   "source": []
  }
 ],
 "metadata": {
  "kernelspec": {
   "display_name": "Python [conda env:tensorflow-gpu-test]",
   "language": "python",
   "name": "conda-env-tensorflow-gpu-test-py"
  },
  "language_info": {
   "codemirror_mode": {
    "name": "ipython",
    "version": 3
   },
   "file_extension": ".py",
   "mimetype": "text/x-python",
   "name": "python",
   "nbconvert_exporter": "python",
   "pygments_lexer": "ipython3",
   "version": "3.5.5"
  }
 },
 "nbformat": 4,
 "nbformat_minor": 2
}
