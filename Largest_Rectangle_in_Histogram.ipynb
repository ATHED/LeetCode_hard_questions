{
 "cells": [
  {
   "cell_type": "code",
   "execution_count": 5,
   "metadata": {},
   "outputs": [],
   "source": [
    "#Question #84 Largest Rectangle in Histogram\n",
    "\n",
    "#Description:\n",
    "#Given n non-negative integers representing the histogram's bar height where the width of each bar is 1, \n",
    "#find the area of largest rectangle in the histogram.\n",
    "\n",
    "#Example:\n",
    "#Input: heights = [2,1,5,6,2,3]\n",
    "#Output: 10\n",
    "\n",
    "#Explanation\n",
    "#None\n",
    "\n",
    "\n",
    "#import necessary package\n",
    "import collections\n",
    "from typing import List\n",
    "\n",
    "#defines the method for the problem\n",
    "#input: self, heights\n",
    "\n",
    "#idea: Thinking it as a dynamic programing problem, we want to use two stacks to store position and heights\n",
    "#Notice: using '-1' to initialize the stack. Because we append '0' to the height array to manually create right\n",
    "#boundary, and '-1' in the stack denotes the index of this purposedly create bar.\n",
    "#\n",
    "def largestRectangleArea(self, heights: List[int]) -> int:\n",
    "        # make right boundary\n",
    "        heights.append(0)\n",
    "        # store left boundary index\n",
    "        stack = [-1] # tricky: -1 also denotes the left index of 0\n",
    "        # keep track of max area\n",
    "        area = 0\n",
    "        # iterate through heights\n",
    "        for idx, h in enumerate(heights):\n",
    "            # we now find the right boundary for stacks[-1]\n",
    "            while h < heights[stack[-1]]:\n",
    "                cur_idx = stack.pop()\n",
    "                cur_h = heights[cur_idx]\n",
    "                # right boundary (idx) is certainly lower than 'cur_idx'\n",
    "                right_boundary = idx\n",
    "                # tricky part, note that every index stored in 'stack' is in ascending order, but not necessary continguous\n",
    "                # also note that the reason we initially put '-1' in 'stack' is that -1 is instinctively left to 0, so it's naturally the left boundary for index 0\n",
    "                left_boundary = stack[-1]\n",
    "                cur_w = right_boundary - left_boundary - 1\n",
    "                area = max(area, cur_h * cur_w)\n",
    "            # we put every index to stack once\n",
    "            # note that eventually every index except '-1' in stack will be popped out\n",
    "            stack.append(idx)\n",
    "        return area "
   ]
  },
  {
   "cell_type": "code",
   "execution_count": 6,
   "metadata": {},
   "outputs": [
    {
     "name": "stdout",
     "output_type": "stream",
     "text": [
      "The output is:  10\n"
     ]
    }
   ],
   "source": [
    "#test case\n",
    "#input: heights = [2,1,5,6,2,3]\n",
    "#exprected output: 10\n",
    "\n",
    "heights = [2,1,5,6,2,3]\n",
    "\n",
    "#print output\n",
    "print(\"The output is: \", largestRectangleArea(_, heights))"
   ]
  },
  {
   "cell_type": "code",
   "execution_count": null,
   "metadata": {},
   "outputs": [],
   "source": []
  }
 ],
 "metadata": {
  "kernelspec": {
   "display_name": "Python [conda env:tensorflow-gpu-test]",
   "language": "python",
   "name": "conda-env-tensorflow-gpu-test-py"
  },
  "language_info": {
   "codemirror_mode": {
    "name": "ipython",
    "version": 3
   },
   "file_extension": ".py",
   "mimetype": "text/x-python",
   "name": "python",
   "nbconvert_exporter": "python",
   "pygments_lexer": "ipython3",
   "version": "3.5.5"
  }
 },
 "nbformat": 4,
 "nbformat_minor": 2
}
