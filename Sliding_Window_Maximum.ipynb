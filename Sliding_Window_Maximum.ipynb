{
 "cells": [
  {
   "cell_type": "code",
   "execution_count": 4,
   "metadata": {},
   "outputs": [],
   "source": [
    "#Question #239 Sliding Window Maximum\n",
    "\n",
    "#Description:\n",
    "#Given an array nums, there is a sliding window of size k which is moving from the very left of the array to the very right. \n",
    "#You can only see the k numbers in the window. Each time the sliding window moves right by one position. \n",
    "#Return the max sliding window.\n",
    "\n",
    "#Example:\n",
    "#Input: nums = [1,3,-1,-3,5,3,6,7], and k = 3\n",
    "#Output: [3,3,5,5,6,7] \n",
    "\n",
    "#Explanation\n",
    "#Window position                Max\n",
    "#---------------               -----\n",
    "#[1  3  -1] -3  5  3  6  7       3\n",
    "# 1 [3  -1  -3] 5  3  6  7       3\n",
    "# 1  3 [-1  -3  5] 3  6  7       5\n",
    "# 1  3  -1 [-3  5  3] 6  7       5\n",
    "# 1  3  -1  -3 [5  3  6] 7       6\n",
    "# 1  3  -1  -3  5 [3  6  7]      7\n",
    "\n",
    "\n",
    "#import necessary package\n",
    "import collections\n",
    "\n",
    "#defines the method for the problem\n",
    "#input: self, nums, and k\n",
    "\n",
    "#idea: Use double-ended queue\n",
    "#steps:\n",
    "#1. Maintain a deque of the indexes of the largest elements we've seen (candidates)\n",
    "#2. Deque should never point to elements smaller than current element\n",
    "#3. Deque should never point to elements outside the sliding window\n",
    "#4. Keep updating the deque with current element\n",
    "#5. Keep appending the front of deque to output\n",
    "def maxSlidingWindow(self, nums, k):\n",
    "    \"\"\"\n",
    "    :type nums: List[int]\n",
    "    :type k: int\n",
    "    :rtype: List[int]\n",
    "    \"\"\"\n",
    "    d = collections.deque()\n",
    "    out = []\n",
    "    for i, n in enumerate(nums):\n",
    "        #print(\"i = {}, curr element = {}, d = {} and out = {}\".format(i, n, d, out))\n",
    "        while d and nums[d[-1]] < n:\n",
    "            d.pop()\n",
    "            #print(\"\\t Popped from d because d has elements and nums[d.top] < curr element\")\n",
    "        d.append(i)\n",
    "        #print(\"\\t Added i to d\")\n",
    "        if d[0] == i - k:\n",
    "            d.popleft()\n",
    "            #print(\"\\t Popped left from d because it's outside the window's leftmost (i-k)\")\n",
    "        if i>=k-1:\n",
    "            out.append(nums[d[0]])\n",
    "        #print(\"\\t Append nums[d[0]] = {} to out\".format(nums[d[0]]))\n",
    "    return out"
   ]
  },
  {
   "cell_type": "code",
   "execution_count": 6,
   "metadata": {},
   "outputs": [
    {
     "name": "stdout",
     "output_type": "stream",
     "text": [
      "[3, 3, 5, 5, 6, 7]\n"
     ]
    }
   ],
   "source": [
    "#test case\n",
    "#input: nums = [1,3,-1,-3,5,3,6,7], k =3\n",
    "#exprected output: [3, 3, 5, 5, 6, 7]\n",
    "\n",
    "nums = [1,3,-1,-3,5,3,6,7]\n",
    "k = 3\n",
    "\n",
    "#print output\n",
    "print(maxSlidingWindow(_, nums, k))"
   ]
  },
  {
   "cell_type": "code",
   "execution_count": null,
   "metadata": {},
   "outputs": [],
   "source": []
  }
 ],
 "metadata": {
  "kernelspec": {
   "display_name": "Python [conda env:tensorflow-gpu-test]",
   "language": "python",
   "name": "conda-env-tensorflow-gpu-test-py"
  },
  "language_info": {
   "codemirror_mode": {
    "name": "ipython",
    "version": 3
   },
   "file_extension": ".py",
   "mimetype": "text/x-python",
   "name": "python",
   "nbconvert_exporter": "python",
   "pygments_lexer": "ipython3",
   "version": "3.5.5"
  }
 },
 "nbformat": 4,
 "nbformat_minor": 2
}
