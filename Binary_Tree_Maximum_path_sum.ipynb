{
 "cells": [
  {
   "cell_type": "code",
   "execution_count": 17,
   "metadata": {},
   "outputs": [],
   "source": [
    "#Question #124 Binary Tree Maximum Path Sum\n",
    "\n",
    "#Description:\n",
    "#Given a non-empty binary tree, find the maximum path sum.\n",
    "\n",
    "#For this problem, a path is defined as any sequence of nodes from some starting node to any node \n",
    "#in the tree along the parent-child connections. \n",
    "#The path must contain at least one node and does not need to go through the root.\n",
    "\n",
    "#Example:\n",
    "#Input: [1,2,3]\n",
    "#\n",
    "#       1\n",
    "#      / \\\n",
    "#     2   3\n",
    "#\n",
    "#Output: 6\n",
    "\n",
    "\n",
    "#Input: [-10,9,20,null,null,15,7]\n",
    "#\n",
    "#   -10\n",
    "#   / \\\n",
    "#  9  20\n",
    "#    /  \\\n",
    "#   15   7\n",
    "#\n",
    "#Output: 42\n",
    "\n",
    "\n",
    "#import necessary package\n",
    "import collections\n",
    "from typing import List\n",
    "import heapq\n",
    "\n",
    "#defines the method for the problem\n",
    "#input: self, root\n",
    "\n",
    "#idea: It is a variant of kadane's algorithm, need return two value for each given node.\n",
    "\n",
    "#steps:\n",
    "#1. The max sum of all paths both left and right ending in the given node (can extend through parent node)\n",
    "#2. The max sum of all paths anywhere in tree rooted at given node (not extended through parent)\n",
    "\n",
    "# Definition for a binary tree node.\n",
    "class TreeNode:\n",
    "    def __init__(self, x):\n",
    "        self.val = x\n",
    "        self.left = None\n",
    "        self.right = None\n",
    "\n",
    "def maxPathSum(self, root: TreeNode) -> int:\n",
    "    def backtracking(node: TreeNode) -> tuple:\n",
    "        if not node: return float('-inf'), 0\n",
    "        left_so_far, left_ending_here = backtracking(node.left)\n",
    "        right_so_far, right_ending_here = backtracking(node.right)\n",
    "        max_so_far = max(left_so_far, right_so_far,\n",
    "                            node.val + left_ending_here + right_ending_here)\n",
    "        max_ending_here = max(0, node.val + max(left_ending_here, right_ending_here))\n",
    "        return max_so_far, max_ending_here\n",
    "\n",
    "    return backtracking(root)[0]\n",
    "        "
   ]
  },
  {
   "cell_type": "code",
   "execution_count": 18,
   "metadata": {},
   "outputs": [
    {
     "name": "stdout",
     "output_type": "stream",
     "text": [
      "The output is:  6\n"
     ]
    }
   ],
   "source": [
    "#test case\n",
    "#input: root = [1,2,3]\n",
    "#exprected output: 6\n",
    "\n",
    "root = TreeNode(1)\n",
    "root.left = TreeNode(2)\n",
    "root.right = TreeNode(3)\n",
    "\n",
    "#print output\n",
    "print(\"The output is: \", maxPathSum(_, root))"
   ]
  },
  {
   "cell_type": "code",
   "execution_count": 19,
   "metadata": {},
   "outputs": [],
   "source": [
    "#Runtime and space complexity\n",
    "\n",
    "#Time complexity: O(N)\n",
    "#The recursive algorithm need to travesal all the node one time, in the meantime keep updating local and global\n",
    "#maxmimum. Therefore, it is linear time algorithm\n",
    "\n",
    "#Space complexity:O(1)\n",
    "#For storing the max sum of local node, and the max sum of global path we only need O(1) space\n",
    "\n"
   ]
  },
  {
   "cell_type": "code",
   "execution_count": null,
   "metadata": {},
   "outputs": [],
   "source": []
  }
 ],
 "metadata": {
  "kernelspec": {
   "display_name": "Python [conda env:tensorflow-gpu-test]",
   "language": "python",
   "name": "conda-env-tensorflow-gpu-test-py"
  },
  "language_info": {
   "codemirror_mode": {
    "name": "ipython",
    "version": 3
   },
   "file_extension": ".py",
   "mimetype": "text/x-python",
   "name": "python",
   "nbconvert_exporter": "python",
   "pygments_lexer": "ipython3",
   "version": "3.5.5"
  }
 },
 "nbformat": 4,
 "nbformat_minor": 2
}
